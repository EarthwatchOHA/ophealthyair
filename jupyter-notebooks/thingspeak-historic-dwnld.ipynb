{
 "cells": [
  {
   "cell_type": "code",
   "execution_count": 6,
   "metadata": {},
   "outputs": [],
   "source": [
    "import thingspeak\n",
    "import os\n",
    "import requests\n",
    "import pandas as pd\n",
    "import json\n",
    "from datetime import datetime\n",
    "import openpyxl\n",
    "\n",
    "# Sets working directory to package directory.\n",
    "os.chdir('/mnt/c/Users/iozeroff/OneDrive - Earthwatch/Desktop/Data-Science/Python-Projects/oha-ups/')"
   ]
  },
  {
   "cell_type": "code",
   "execution_count": 7,
   "metadata": {},
   "outputs": [],
   "source": [
    "# Establishes thingspeak channel object (connection).\n",
    "channel_id = 742875\n",
    "read_key = 'JC4FCUJOPST94F65'\n",
    "channel = thingspeak.Channel(id=channel_id, api_key=read_key)"
   ]
  },
  {
   "cell_type": "code",
   "execution_count": 8,
   "metadata": {},
   "outputs": [],
   "source": [
    "# XXX Create object for each of these API options.\n",
    "# XXX Functionalize these options.\n",
    "# Start date and End date of channel request in format YYYY-MM-DD HH:NN:SS.\n",
    "start = \"2019-10-01 00:00:00\"\n",
    "end = \"2019-10-23 12:00:00\"\n",
    "# Number of 24-hour periods before now to include in response. The default is 1.\n",
    "days=None\n",
    "# Number of 60-second periods before now to include in response. The default is 1440.\n",
    "minutes=None\n",
    "results=8000\n",
    "# Get average of this many minutes, valid values: 10, 15, 20, 30, 60, 240, 720, 1440, \"daily\".\n",
    "average=None\n",
    "\n",
    "# Creates a dictionary of options to pass to GET request.\n",
    "options = {'start':datetime.strptime(start, '%Y-%m-%d %H:%M:%S'), 'end':datetime.strptime(end, '%Y-%m-%d %H:%M:%S'),\n",
    "           'days':days, 'minutes':minutes, 'results':results, 'average':average}\n",
    "response = json.loads(channel.get(options=options))\n",
    "fields = response['channel']"
   ]
  },
  {
   "cell_type": "code",
   "execution_count": 9,
   "metadata": {},
   "outputs": [
    {
     "name": "stdout",
     "output_type": "stream",
     "text": [
      "             created_at  entry_id field1 field2 field3 field4 field5 field6  \\\n",
      "0  2019-10-12T08:20:38Z    118787   0.00   0.00   0.64  35224    -58     59   \n",
      "1  2019-10-12T08:22:38Z    118788   0.00   0.00   0.00  35226    -58     59   \n",
      "2  2019-10-12T08:24:38Z    118789   0.00   0.18   0.43  35228    -57     59   \n",
      "3  2019-10-12T08:26:38Z    118790   0.00   0.00   0.00  35230    -58     59   \n",
      "4  2019-10-12T08:28:38Z    118791   0.00   0.09   0.33  35232    -58     59   \n",
      "\n",
      "  field7 field8  \n",
      "0     68   0.00  \n",
      "1     68   0.00  \n",
      "2     68   0.18  \n",
      "3     68   0.00  \n",
      "4     68   0.09  \n",
      "                created_at  entry_id field1 field2 field3 field4 field5  \\\n",
      "7995  2019-10-23T11:50:14Z    126782   0.00   0.00   0.00   1338    -63   \n",
      "7996  2019-10-23T11:52:14Z    126783   0.00   0.00   0.00   1340    -64   \n",
      "7997  2019-10-23T11:54:14Z    126784   0.00   0.00   0.00   1342    -63   \n",
      "7998  2019-10-23T11:56:14Z    126785   0.00   0.00   0.00   1344    -65   \n",
      "7999  2019-10-23T11:58:14Z    126786   0.00   0.00   0.00   1346    -63   \n",
      "\n",
      "     field6 field7 field8  \n",
      "7995     62     69   0.00  \n",
      "7996     62     69   0.00  \n",
      "7997     62     69   0.00  \n",
      "7998     62     69   0.00  \n",
      "7999     62     69   0.00  \n"
     ]
    }
   ],
   "source": [
    "df = pd.DataFrame.from_dict(response['feeds'])\n",
    "print(df.head())\n",
    "print(df.tail())"
   ]
  },
  {
   "cell_type": "code",
   "execution_count": 10,
   "metadata": {},
   "outputs": [
    {
     "data": {
      "text/plain": [
       "'2019-03-27T14:48:23Z'"
      ]
     },
     "execution_count": 10,
     "metadata": {},
     "output_type": "execute_result"
    }
   ],
   "source": [
    "fields.pop('created_at')"
   ]
  },
  {
   "cell_type": "code",
   "execution_count": 11,
   "metadata": {},
   "outputs": [
    {
     "name": "stdout",
     "output_type": "stream",
     "text": [
      "                      entry_id PM1.0 (ATM) PM2.5 (ATM) PM10.0 (ATM)  \\\n",
      "created_at                                                            \n",
      "2019-10-12T08:20:38Z    118787        0.00        0.00         0.64   \n",
      "2019-10-12T08:22:38Z    118788        0.00        0.00         0.00   \n",
      "2019-10-12T08:24:38Z    118789        0.00        0.18         0.43   \n",
      "2019-10-12T08:26:38Z    118790        0.00        0.00         0.00   \n",
      "2019-10-12T08:28:38Z    118791        0.00        0.09         0.33   \n",
      "\n",
      "                     Temperature Humidity PM2.5 (CF=1)  \n",
      "created_at                                              \n",
      "2019-10-12T08:20:38Z          59       68         0.00  \n",
      "2019-10-12T08:22:38Z          59       68         0.00  \n",
      "2019-10-12T08:24:38Z          59       68         0.18  \n",
      "2019-10-12T08:26:38Z          59       68         0.00  \n",
      "2019-10-12T08:28:38Z          59       68         0.09  \n",
      "                      entry_id PM1.0 (ATM) PM2.5 (ATM) PM10.0 (ATM)  \\\n",
      "created_at                                                            \n",
      "2019-10-23T11:50:14Z    126782        0.00        0.00         0.00   \n",
      "2019-10-23T11:52:14Z    126783        0.00        0.00         0.00   \n",
      "2019-10-23T11:54:14Z    126784        0.00        0.00         0.00   \n",
      "2019-10-23T11:56:14Z    126785        0.00        0.00         0.00   \n",
      "2019-10-23T11:58:14Z    126786        0.00        0.00         0.00   \n",
      "\n",
      "                     Temperature Humidity PM2.5 (CF=1)  \n",
      "created_at                                              \n",
      "2019-10-23T11:50:14Z          62       69         0.00  \n",
      "2019-10-23T11:52:14Z          62       69         0.00  \n",
      "2019-10-23T11:54:14Z          62       69         0.00  \n",
      "2019-10-23T11:56:14Z          62       69         0.00  \n",
      "2019-10-23T11:58:14Z          62       69         0.00  \n"
     ]
    }
   ],
   "source": [
    "# Creates dataframe from json response. \n",
    "df = df.rename(columns=fields).drop(['RSSI', 'Uptime'], axis=1).set_index(['created_at'])\n",
    "print(df.head())\n",
    "print(df.tail())"
   ]
  },
  {
   "cell_type": "code",
   "execution_count": 12,
   "metadata": {},
   "outputs": [],
   "source": [
    "# Defines write_df function, that writes input pandas DataFrame to excel or csv file.\n",
    "def write_df(df, fmt='csv'):\n",
    "    \"\"\"Writes inputted dataframe to either csv (default) or excel file.\"\"\"\n",
    "    if fmt=='csv':\n",
    "        df.to_csv('outputs/datasets/test.csv') # XXX Will need to automate the naming of the files based on sensor name.\n",
    "    elif fmt=='excel':\n",
    "        df.to_excel('outputs/datasets/test.xlsx')\n",
    "    else :\n",
    "        raise ValueError(\"fmt argument must be either 'csv' or 'excel'.\")"
   ]
  },
  {
   "cell_type": "code",
   "execution_count": null,
   "metadata": {},
   "outputs": [],
   "source": [
    "# Test call.        \n",
    "write_df(df=df, fmt='excel')"
   ]
  },
  {
   "cell_type": "code",
   "execution_count": 4,
   "metadata": {},
   "outputs": [
    {
     "name": "stdout",
     "output_type": "stream",
     "text": [
      "{\"channel\":{\"id\":742875,\"name\":\"AirMonitor_b41c\",\"latitude\":\"0.0\",\"longitude\":\"0.0\",\"field1\":\"PM1.0 (ATM)\",\"field2\":\"PM2.5 (ATM)\",\"field3\":\"PM10.0 (ATM)\",\"field4\":\"Uptime\",\"field5\":\"RSSI\",\"field6\":\"Temperature\",\"field7\":\"Humidity\",\"field8\":\"PM2.5 (CF=1)\",\"created_at\":\"2019-03-27T14:48:23Z\",\"updated_at\":\"2019-03-27T14:48:24Z\",\"last_entry_id\":126281},\"feeds\":[{\"created_at\":\"2019-10-22T19:02:14Z\",\"entry_id\":126280,\"field1\":\"2.28\"},{\"created_at\":\"2019-10-22T19:04:14Z\",\"entry_id\":126281,\"field1\":\"1.94\"}]}\n",
      "{\"last_data_age\":\"25\",\"last_data_age_units\":\"s\"}\n",
      "{\"created_at\":\"2019-10-22T19:04:14Z\",\"entry_id\":126281,\"field1\":\"1.94\"}\n"
     ]
    }
   ],
   "source": [
    "# This is from a github repo. Not sure if I need to use.\n",
    "try:\n",
    "    # Get the last 2 results from field 1 of your channel\n",
    "    print(channel.get_field(field='field1', options = {'results': 2}))\n",
    "    # Get the age of the last data in field 1 of your channel in seconds\n",
    "    print(channel.get_last_data_age(field='field1'))\n",
    "    # Get the last data in field 1 of your channel\n",
    "    print(channel.get_field_last(field='field1'))\n",
    "except:\n",
    "    raise\n",
    "    print(\"connection failed\")"
   ]
  }
 ],
 "metadata": {
  "kernelspec": {
   "display_name": "Python 3",
   "language": "python",
   "name": "python3"
  },
  "language_info": {
   "codemirror_mode": {
    "name": "ipython",
    "version": 3
   },
   "file_extension": ".py",
   "mimetype": "text/x-python",
   "name": "python",
   "nbconvert_exporter": "python",
   "pygments_lexer": "ipython3",
   "version": "3.5.2"
  }
 },
 "nbformat": 4,
 "nbformat_minor": 2
}
