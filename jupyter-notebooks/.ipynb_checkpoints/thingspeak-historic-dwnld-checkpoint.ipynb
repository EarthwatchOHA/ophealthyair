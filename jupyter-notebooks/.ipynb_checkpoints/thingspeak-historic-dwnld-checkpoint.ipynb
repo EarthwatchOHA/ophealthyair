{
 "cells": [
  {
   "cell_type": "code",
   "execution_count": 80,
   "metadata": {},
   "outputs": [],
   "source": [
    "import thingspeak\n",
    "import os\n",
    "import requests\n",
    "import pandas as pd\n",
    "import json\n",
    "from datetime import datetime\n",
    "import openpyxl\n",
    "import urllib\n",
    "\n",
    "# Sets working directory to package directory.\n",
    "os.chdir('/mnt/c/Users/iozeroff/OneDrive - Earthwatch/Desktop/Data-Science/Python-Projects/oha-ups/')"
   ]
  },
  {
   "cell_type": "code",
   "execution_count": 93,
   "metadata": {},
   "outputs": [],
   "source": [
    "def get_thingspeak(channel, **kwargs):\n",
    "    \"\"\"Submit GET request to thingspeak API using specified arguments.\"\"\"\n",
    "    # This block confirms all arguments are acceptable. \n",
    "    # Thingspeak API may still reject inputs if it doesn't recognize channelID or read_key.\n",
    "    expected_args = ('minutes', 'start', 'end', 'days', 'average', 'api_key')\n",
    "    assert any([i in expected_args for i in kwargs.keys()]), \"received an unexpected argument. See documentation for list of expected arguments.\"\n",
    "    try:\n",
    "        response = json.loads(channel.get(options=kwargs))\n",
    "    except urllib.error.HTTPError as error:\n",
    "        print(error)\n",
    "    return(response)\n",
    "    "
   ]
  },
  {
   "cell_type": "code",
   "execution_count": 44,
   "metadata": {},
   "outputs": [],
   "source": [
    "# Defines write_df function, that writes input pandas DataFrame to excel or csv file.\n",
    "def write_df(df, fmt='csv'):\n",
    "    \"\"\"Write inputted dataframe to either csv (default) or excel file.\"\"\"\n",
    "    if fmt=='csv':\n",
    "        df.to_csv('outputs/datasets/test.csv') # XXX Will need to automate the naming of the files based on sensor name.\n",
    "    elif fmt=='excel':\n",
    "        df.to_excel('outputs/datasets/test.xlsx')\n",
    "    else :\n",
    "        raise ValueError(\"fmt argument must be either 'csv' or 'excel'.\")"
   ]
  },
  {
   "cell_type": "code",
   "execution_count": 64,
   "metadata": {},
   "outputs": [],
   "source": [
    "# Establishes thingspeak channel object (connection).\n",
    "channel_id = 742875\n",
    "read_key = 'JC4FCUJOPST94F65'\n",
    "channel = thingspeak.Channel(id=channel_id, api_key=read_key)"
   ]
  },
  {
   "cell_type": "code",
   "execution_count": 94,
   "metadata": {},
   "outputs": [],
   "source": [
    "# Creates options for GET request to thingspeak API. \n",
    "# May need to rethink how these options are passed to get_thingspeak().\n",
    "# Start date and End date of channel request in format YYYY-MM-DD HH:NN:SS.\n",
    "start = \"2019-10-01 00:00:00\" # If either of the dates are set as None, datetime.strptime fails.\n",
    "end = \"2019-10-23 23:59:59\"\n",
    "# Number of 24-hour periods before now to include in response. The default is 1.\n",
    "days=None\n",
    "# Number of 60-second periods before now to include in response. The default is 1440.\n",
    "minutes=None\n",
    "# Get average of this many minutes, valid values: 10, 15, 20, 30, 60, 240, 720, 1440, \"daily\".\n",
    "average=None"
   ]
  },
  {
   "cell_type": "code",
   "execution_count": 95,
   "metadata": {},
   "outputs": [],
   "source": [
    "# Submits GET request to thingspeak API using pre-specified arguments.\n",
    "response = get_thingspeak(channel, start=start, end=end)"
   ]
  },
  {
   "cell_type": "code",
   "execution_count": 98,
   "metadata": {},
   "outputs": [
    {
     "name": "stdout",
     "output_type": "stream",
     "text": [
      "                      entry_id PM1.0 (ATM) PM2.5 (ATM) PM10.0 (ATM)  \\\n",
      "created_at                                                            \n",
      "2019-10-12T18:26:38Z    119090        0.16        0.59         0.66   \n",
      "2019-10-12T18:28:38Z    119091        0.48        0.76         0.76   \n",
      "2019-10-12T18:30:38Z    119092        0.51        0.61         0.81   \n",
      "2019-10-12T18:32:38Z    119093        0.19        0.28         0.28   \n",
      "2019-10-12T18:34:38Z    119094        0.39        0.72         1.31   \n",
      "\n",
      "                     Temperature Humidity PM2.5 (CF=1)  \n",
      "created_at                                              \n",
      "2019-10-12T18:26:38Z          66       57         0.59  \n",
      "2019-10-12T18:28:38Z          66       58         0.76  \n",
      "2019-10-12T18:30:38Z          66       57         0.61  \n",
      "2019-10-12T18:32:38Z          65       57         0.28  \n",
      "2019-10-12T18:34:38Z          65       58         0.72  \n",
      "                      entry_id PM1.0 (ATM) PM2.5 (ATM) PM10.0 (ATM)  \\\n",
      "created_at                                                            \n",
      "2019-10-23T21:56:14Z    127085        0.74        1.39         1.39   \n",
      "2019-10-23T21:58:14Z    127086        1.00        1.16         1.17   \n",
      "2019-10-23T22:00:14Z    127087        1.04        1.71         2.93   \n",
      "2019-10-23T22:02:14Z    127088        0.61        1.19         1.96   \n",
      "2019-10-23T22:04:14Z    127089        0.87        1.75         3.27   \n",
      "\n",
      "                     Temperature Humidity PM2.5 (CF=1)  \n",
      "created_at                                              \n",
      "2019-10-23T21:56:14Z          63       43         1.39  \n",
      "2019-10-23T21:58:14Z          63       44         1.16  \n",
      "2019-10-23T22:00:14Z          62       45         1.71  \n",
      "2019-10-23T22:02:14Z          62       45         1.19  \n",
      "2019-10-23T22:04:14Z          62       45         1.75  \n"
     ]
    }
   ],
   "source": [
    "# XXX Perhaps functionalize this.\n",
    "# Creates fields object to use for column naming.\n",
    "fields = response['channel']\n",
    "\n",
    "# Creates data frame from response JSON dictionary.\n",
    "df = pd.DataFrame.from_dict(response['feeds'])\n",
    "\n",
    "# Removes created at from fields, because this is already a column name. \n",
    "fields.pop('created_at')\n",
    "\n",
    "# Creates dataframe from json response. \n",
    "df = df.rename(columns=fields).drop(['RSSI', 'Uptime'], axis=1).set_index(['created_at'])\n",
    "print(df.head())\n",
    "print(df.tail())"
   ]
  },
  {
   "cell_type": "code",
   "execution_count": 100,
   "metadata": {},
   "outputs": [],
   "source": [
    "write_df(df, fmt='excel')"
   ]
  }
 ],
 "metadata": {
  "kernelspec": {
   "display_name": "Python 3",
   "language": "python",
   "name": "python3"
  },
  "language_info": {
   "codemirror_mode": {
    "name": "ipython",
    "version": 3
   },
   "file_extension": ".py",
   "mimetype": "text/x-python",
   "name": "python",
   "nbconvert_exporter": "python",
   "pygments_lexer": "ipython3",
   "version": "3.5.2"
  }
 },
 "nbformat": 4,
 "nbformat_minor": 2
}
